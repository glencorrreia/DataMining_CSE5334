{
 "cells": [
  {
   "cell_type": "markdown",
   "metadata": {
    "id": "Iqvp6NWxnrFJ"
   },
   "source": [
    "# Data Mining Assignment 1\n",
    "# Glen Paul Correia \n",
    "# 1001980331"
   ]
  },
  {
   "cell_type": "code",
   "execution_count": 300,
   "metadata": {
    "id": "BvMtnepoceAk"
   },
   "outputs": [],
   "source": [
    "import pandas as pd\n",
    "import numpy as np\n",
    "import seaborn as sns\n",
    "import matplotlib.pyplot as plt"
   ]
  },
  {
   "cell_type": "markdown",
   "metadata": {
    "id": "IIYt4mqjisgf"
   },
   "source": [
    "#https://pandas.pydata.org/docs/getting_started/intro_tutorials/02_read_write.html"
   ]
  },
  {
   "cell_type": "code",
   "execution_count": 301,
   "metadata": {
    "id": "2XUEF8_SkfPU"
   },
   "outputs": [],
   "source": [
    "mydata = pd.read_csv(\"train.csv\")"
   ]
  },
  {
   "cell_type": "markdown",
   "metadata": {
    "id": "RsqiCjrNZoo0"
   },
   "source": [
    "#First Part For Age: Young, Middle and Old"
   ]
  },
  {
   "cell_type": "markdown",
   "metadata": {
    "id": "tNZeaBSxh1LB"
   },
   "source": [
    "For Young"
   ]
  },
  {
   "cell_type": "markdown",
   "metadata": {
    "id": "W8vDO6_4mxoB"
   },
   "source": [
    "https://www.stackvidhya.com/get-value-of-cell-from-a-pandas-dataframe/"
   ]
  },
  {
   "cell_type": "code",
   "execution_count": 335,
   "metadata": {
    "colab": {
     "base_uri": "https://localhost:8080/"
    },
    "id": "TPm2btrabSwS",
    "outputId": "7a9ffcbe-71f1-429b-ce46-4492617370bc"
   },
   "outputs": [
    {
     "name": "stdout",
     "output_type": "stream",
     "text": [
      "     Survived   Age\n",
      "0           0  22.0\n",
      "1           1  38.0\n",
      "2           1  26.0\n",
      "3           1  35.0\n",
      "4           0  35.0\n",
      "..        ...   ...\n",
      "886         0  27.0\n",
      "887         1  19.0\n",
      "888         0   NaN\n",
      "889         1  26.0\n",
      "890         0  32.0\n",
      "\n",
      "[891 rows x 2 columns]\n",
      "891\n"
     ]
    }
   ],
   "source": [
    "ListAge = mydata[['Survived','Age']] \n",
    "print(ListAge)\n",
    "ListA = len(ListAge)\n",
    "print(ListA)"
   ]
  },
  {
   "cell_type": "markdown",
   "metadata": {
    "id": "TgBntqEZkuTW"
   },
   "source": [
    "https://pandas.pydata.org/docs/reference/api/pandas.cut.html"
   ]
  },
  {
   "cell_type": "markdown",
   "metadata": {
    "id": "1czg0BrwoO_4"
   },
   "source": [
    "Segregating the data"
   ]
  },
  {
   "cell_type": "code",
   "execution_count": 337,
   "metadata": {
    "id": "ejbU5ccgc427"
   },
   "outputs": [],
   "source": [
    "ListAge = pd.cut(mydata['Age'], bins=[0,12,38,np.inf], labels=['Young','Middle','Old'] )"
   ]
  },
  {
   "cell_type": "markdown",
   "metadata": {
    "id": "zaw58F6ylJRN"
   },
   "source": [
    "Replacing the values with the update values at corresponding index"
   ]
  },
  {
   "cell_type": "code",
   "execution_count": 338,
   "metadata": {
    "id": "jVHId45kd19P"
   },
   "outputs": [],
   "source": [
    "mydata['Age'] = ListAge.values"
   ]
  },
  {
   "cell_type": "code",
   "execution_count": 339,
   "metadata": {
    "colab": {
     "base_uri": "https://localhost:8080/"
    },
    "id": "1EHWm1DoeBF0",
    "outputId": "69161cc5-c4ff-4511-94dd-a518a8c06860"
   },
   "outputs": [
    {
     "name": "stdout",
     "output_type": "stream",
     "text": [
      "0      Middle\n",
      "1      Middle\n",
      "2      Middle\n",
      "3      Middle\n",
      "4      Middle\n",
      "        ...  \n",
      "886    Middle\n",
      "887    Middle\n",
      "888       NaN\n",
      "889    Middle\n",
      "890    Middle\n",
      "Name: Age, Length: 891, dtype: category\n",
      "Categories (3, object): ['Young' < 'Middle' < 'Old']\n"
     ]
    }
   ],
   "source": [
    "print(mydata['Age'])"
   ]
  },
  {
   "cell_type": "code",
   "execution_count": 340,
   "metadata": {
    "colab": {
     "base_uri": "https://localhost:8080/"
    },
    "id": "p-digfDZeA_Z",
    "outputId": "15ecb3ad-32f1-4f83-c55c-c2b139721ca7"
   },
   "outputs": [
    {
     "name": "stdout",
     "output_type": "stream",
     "text": [
      "     PassengerId  Survived  Pclass  ...  Fare Cabin Embarked\n",
      "7              8         0       3  ...  Poor   NaN        S\n",
      "10            11         1       3  ...  Poor    G6        S\n",
      "16            17         0       3  ...  Poor   NaN        Q\n",
      "24            25         0       3  ...  Poor   NaN        S\n",
      "43            44         1       2  ...  Rich   NaN        C\n",
      "..           ...       ...     ...  ...   ...   ...      ...\n",
      "827          828         1       2  ...  Rich   NaN        C\n",
      "831          832         1       2  ...  Poor   NaN        S\n",
      "850          851         0       3  ...  Poor   NaN        S\n",
      "852          853         0       3  ...  Poor   NaN        C\n",
      "869          870         1       3  ...  Poor   NaN        S\n",
      "\n",
      "[69 rows x 12 columns]\n"
     ]
    }
   ],
   "source": [
    "total_y = mydata[mydata['Age'] == 'Young']\n",
    "print(total_y)"
   ]
  },
  {
   "cell_type": "markdown",
   "metadata": {
    "id": "ZatDw5UJlRT_"
   },
   "source": [
    "https://www.geeksforgeeks.org/filter-pandas-dataframe-with-multiple-conditions/"
   ]
  },
  {
   "cell_type": "code",
   "execution_count": 341,
   "metadata": {
    "id": "hoWo7vS3eA4w"
   },
   "outputs": [],
   "source": [
    "total_sy = mydata[(mydata['Age'] == 'Young') & (mydata['Survived']==1)]"
   ]
  },
  {
   "cell_type": "markdown",
   "metadata": {
    "id": "jg_dvVqmqJB8"
   },
   "source": [
    "Percentage for Young"
   ]
  },
  {
   "cell_type": "code",
   "execution_count": 342,
   "metadata": {
    "colab": {
     "base_uri": "https://localhost:8080/"
    },
    "id": "r5dyTKWveAw-",
    "outputId": "57c3e3c9-5eaa-40df-8bcc-41db0d0bfe50"
   },
   "outputs": [
    {
     "name": "stdout",
     "output_type": "stream",
     "text": [
      "0.5797101449275363\n"
     ]
    }
   ],
   "source": [
    "FinalYsurvived = len(total_sy)/len(total_y)\n",
    "print(FinalYsurvived)"
   ]
  },
  {
   "cell_type": "markdown",
   "metadata": {
    "id": "f7exhyThfX4D"
   },
   "source": [
    "For Middle"
   ]
  },
  {
   "cell_type": "code",
   "execution_count": 343,
   "metadata": {
    "colab": {
     "base_uri": "https://localhost:8080/"
    },
    "id": "LSawDpuceAl9",
    "outputId": "21dc1de1-a4c6-4e67-ad02-a02e3e3bed3e"
   },
   "outputs": [
    {
     "name": "stdout",
     "output_type": "stream",
     "text": [
      "     PassengerId  Survived  Pclass  ...  Fare Cabin Embarked\n",
      "0              1         0       3  ...  Poor   NaN        S\n",
      "1              2         1       1  ...  Rich   C85        C\n",
      "2              3         1       3  ...  Poor   NaN        S\n",
      "3              4         1       1  ...  Rich  C123        S\n",
      "4              5         0       3  ...  Poor   NaN        S\n",
      "..           ...       ...     ...  ...   ...   ...      ...\n",
      "884          885         0       3  ...  Poor   NaN        S\n",
      "886          887         0       2  ...  Poor   NaN        S\n",
      "887          888         1       1  ...  Poor   B42        S\n",
      "889          890         1       1  ...  Poor  C148        C\n",
      "890          891         0       3  ...  Poor   NaN        Q\n",
      "\n",
      "[468 rows x 12 columns]\n"
     ]
    }
   ],
   "source": [
    "total_mid = mydata[mydata['Age'] == 'Middle']\n",
    "print(total_mid)"
   ]
  },
  {
   "cell_type": "code",
   "execution_count": 345,
   "metadata": {
    "id": "9Nt3doqbfjr7"
   },
   "outputs": [],
   "source": [
    "total_smid = mydata[(mydata['Age'] == 'Middle') & (mydata['Survived']==1)]"
   ]
  },
  {
   "cell_type": "markdown",
   "metadata": {
    "id": "W61pv1mKqQe3"
   },
   "source": [
    "Percentage for Middle"
   ]
  },
  {
   "cell_type": "code",
   "execution_count": 347,
   "metadata": {
    "colab": {
     "base_uri": "https://localhost:8080/"
    },
    "id": "JNw0Arqdfjp8",
    "outputId": "98ff10be-9971-4cec-a2c6-cc43320971ae"
   },
   "outputs": [
    {
     "name": "stdout",
     "output_type": "stream",
     "text": [
      "0.39316239316239315\n"
     ]
    }
   ],
   "source": [
    "FinalMsurvived = len(total_smid)/len(total_mid)\n",
    "print(FinalMsurvived)"
   ]
  },
  {
   "cell_type": "markdown",
   "metadata": {
    "id": "jrTRwNwEf_4l"
   },
   "source": [
    "For Old"
   ]
  },
  {
   "cell_type": "code",
   "execution_count": 348,
   "metadata": {
    "colab": {
     "base_uri": "https://localhost:8080/"
    },
    "id": "2qYGXz7PfjnN",
    "outputId": "c6934ce4-4cd0-4242-cec2-bc599e73a44d"
   },
   "outputs": [
    {
     "name": "stdout",
     "output_type": "stream",
     "text": [
      "     PassengerId  Survived  Pclass  ...  Fare Cabin Embarked\n",
      "6              7         0       1  ...  Rich   E46        S\n",
      "11            12         1       1  ...  Poor  C103        S\n",
      "13            14         0       3  ...  Poor   NaN        S\n",
      "15            16         1       2  ...  Poor   NaN        S\n",
      "30            31         0       1  ...  Poor   NaN        C\n",
      "..           ...       ...     ...  ...   ...   ...      ...\n",
      "865          866         1       2  ...  Poor   NaN        S\n",
      "871          872         1       1  ...  Rich   D35        S\n",
      "873          874         0       3  ...  Poor   NaN        S\n",
      "879          880         1       1  ...  Rich   C50        C\n",
      "885          886         0       3  ...  Poor   NaN        Q\n",
      "\n",
      "[177 rows x 12 columns]\n"
     ]
    }
   ],
   "source": [
    "total_o = mydata[mydata['Age'] == 'Old']\n",
    "print(total_o)"
   ]
  },
  {
   "cell_type": "code",
   "execution_count": 349,
   "metadata": {
    "id": "Vi8yhZaRfjky"
   },
   "outputs": [],
   "source": [
    "total_so = mydata[(mydata['Age'] == 'Old') & (mydata['Survived']==1)]"
   ]
  },
  {
   "cell_type": "markdown",
   "metadata": {
    "id": "A3CuwCZxqWOg"
   },
   "source": [
    "Percentage for Old"
   ]
  },
  {
   "cell_type": "code",
   "execution_count": 350,
   "metadata": {
    "colab": {
     "base_uri": "https://localhost:8080/"
    },
    "id": "qryk7_Wnfjiq",
    "outputId": "c2338361-ec13-4282-8e8f-a2d89fe48930"
   },
   "outputs": [
    {
     "name": "stdout",
     "output_type": "stream",
     "text": [
      "0.3728813559322034\n"
     ]
    }
   ],
   "source": [
    "FinalOsurvived = len(total_so)/len(total_o)\n",
    "print(FinalOsurvived)"
   ]
  },
  {
   "cell_type": "markdown",
   "metadata": {
    "id": "6aJr7Ty8lsU5"
   },
   "source": [
    "https://seaborn.pydata.org/generated/seaborn.catplot.html"
   ]
  },
  {
   "cell_type": "markdown",
   "metadata": {
    "id": "CrJEc1UTp1Tj"
   },
   "source": [
    "Displaying the Graph"
   ]
  },
  {
   "cell_type": "code",
   "execution_count": 351,
   "metadata": {
    "colab": {
     "base_uri": "https://localhost:8080/",
     "height": 387
    },
    "id": "-wVg1jslfjgL",
    "outputId": "afeb8ff6-da77-49ad-df0c-fecfe242bbcd"
   },
   "outputs": [
    {
     "data": {
      "text/plain": [
       "<seaborn.axisgrid.FacetGrid at 0x7ff565ca8350>"
      ]
     },
     "execution_count": 351,
     "metadata": {},
     "output_type": "execute_result"
    },
    {
     "data": {
      "image/png": "[encoded data removed]",
      "text/plain": [
       "<Figure size 411.875x360 with 1 Axes>"
      ]
     },
     "metadata": {
      "needs_background": "light"
     },
     "output_type": "display_data"
    }
   ],
   "source": [
    "sns.catplot(x =\"Age\", hue =\"Survived\", color = \"pink\",\n",
    "kind =\"count\", data = mydata)"
   ]
  },
  {
   "cell_type": "markdown",
   "metadata": {
    "id": "8DniODHM_u7S"
   },
   "source": [
    "#Second Part For Male and Female Survival"
   ]
  },
  {
   "cell_type": "markdown",
   "metadata": {
    "id": "6WEwdF11m6Sj"
   },
   "source": [
    "https://www.stackvidhya.com/get-value-of-cell-from-a-pandas-dataframe/"
   ]
  },
  {
   "cell_type": "code",
   "execution_count": 302,
   "metadata": {
    "colab": {
     "base_uri": "https://localhost:8080/"
    },
    "id": "6dDsCPpLmcas",
    "outputId": "52b684f8-e6d9-44f3-c4be-07bfadbed525"
   },
   "outputs": [
    {
     "name": "stdout",
     "output_type": "stream",
     "text": [
      "     Survived     Sex\n",
      "0           0    male\n",
      "1           1  female\n",
      "2           1  female\n",
      "3           1  female\n",
      "4           0    male\n",
      "..        ...     ...\n",
      "886         0    male\n",
      "887         1  female\n",
      "888         0  female\n",
      "889         1    male\n",
      "890         0    male\n",
      "\n",
      "[891 rows x 2 columns]\n",
      "891\n"
     ]
    }
   ],
   "source": [
    "List1 = mydata[['Survived','Sex']] \n",
    "print(List1)\n",
    "ListT = len(List1)\n",
    "print(ListT)"
   ]
  },
  {
   "cell_type": "markdown",
   "metadata": {
    "id": "94mEunlUm-Ff"
   },
   "source": [
    "https://www.stackvidhya.com/get-value-of-cell-from-a-pandas-dataframe/"
   ]
  },
  {
   "cell_type": "code",
   "execution_count": 303,
   "metadata": {
    "colab": {
     "base_uri": "https://localhost:8080/"
    },
    "id": "jHChTfdB3lEZ",
    "outputId": "b22b70fd-1a03-4fbc-d043-422313e9c813"
   },
   "outputs": [
    {
     "name": "stdout",
     "output_type": "stream",
     "text": [
      "     Survived   Sex\n",
      "0           0  male\n",
      "4           0  male\n",
      "5           0  male\n",
      "6           0  male\n",
      "7           0  male\n",
      "..        ...   ...\n",
      "883         0  male\n",
      "884         0  male\n",
      "886         0  male\n",
      "889         1  male\n",
      "890         0  male\n",
      "\n",
      "[577 rows x 2 columns]\n",
      "577\n"
     ]
    }
   ],
   "source": [
    "ListM = List1[List1['Sex'] == \"male\"]\n",
    "print(ListM)\n",
    "total_rows_M = len(ListM)\n",
    "print(total_rows_M)\n"
   ]
  },
  {
   "cell_type": "markdown",
   "metadata": {
    "id": "ar5MaX7JnAHx"
   },
   "source": [
    "https://www.stackvidhya.com/get-value-of-cell-from-a-pandas-dataframe/"
   ]
  },
  {
   "cell_type": "code",
   "execution_count": 304,
   "metadata": {
    "colab": {
     "base_uri": "https://localhost:8080/"
    },
    "id": "B-B2AYRZuw1-",
    "outputId": "be50214b-f60d-4329-a06b-08640f4bacac"
   },
   "outputs": [
    {
     "name": "stdout",
     "output_type": "stream",
     "text": [
      "     Survived   Sex\n",
      "17          1  male\n",
      "21          1  male\n",
      "23          1  male\n",
      "36          1  male\n",
      "55          1  male\n",
      "..        ...   ...\n",
      "838         1  male\n",
      "839         1  male\n",
      "857         1  male\n",
      "869         1  male\n",
      "889         1  male\n",
      "\n",
      "[109 rows x 2 columns]\n",
      "109\n"
     ]
    }
   ],
   "source": [
    "total_sm = ListM[ListM['Survived'] == 1]\n",
    "print(total_sm)\n",
    "M = len(total_sm)\n",
    "print(M)"
   ]
  },
  {
   "cell_type": "markdown",
   "metadata": {
    "id": "-tZM67G4nCCP"
   },
   "source": [
    "https://www.stackvidhya.com/get-value-of-cell-from-a-pandas-dataframe/"
   ]
  },
  {
   "cell_type": "code",
   "execution_count": 305,
   "metadata": {
    "colab": {
     "base_uri": "https://localhost:8080/"
    },
    "id": "ro7Zbcjq-4pw",
    "outputId": "4777b13e-90c9-48f3-a9ec-e0c75ecc972a"
   },
   "outputs": [
    {
     "name": "stdout",
     "output_type": "stream",
     "text": [
      "     Survived     Sex\n",
      "1           1  female\n",
      "2           1  female\n",
      "3           1  female\n",
      "8           1  female\n",
      "9           1  female\n",
      "..        ...     ...\n",
      "880         1  female\n",
      "882         0  female\n",
      "885         0  female\n",
      "887         1  female\n",
      "888         0  female\n",
      "\n",
      "[314 rows x 2 columns]\n",
      "314\n"
     ]
    }
   ],
   "source": [
    "ListF = List1[List1['Sex'] == \"female\"]\n",
    "print(ListF)\n",
    "total_rows_F = len(ListF)\n",
    "print(total_rows_F)"
   ]
  },
  {
   "cell_type": "markdown",
   "metadata": {
    "id": "5eXlWT5unDoJ"
   },
   "source": []
  },
  {
   "cell_type": "code",
   "execution_count": 306,
   "metadata": {
    "colab": {
     "base_uri": "https://localhost:8080/"
    },
    "id": "WQHI8axO_P8O",
    "outputId": "ec42527f-8aa5-4474-be63-d8b23414c36a"
   },
   "outputs": [
    {
     "name": "stdout",
     "output_type": "stream",
     "text": [
      "     Survived     Sex\n",
      "1           1  female\n",
      "2           1  female\n",
      "3           1  female\n",
      "8           1  female\n",
      "9           1  female\n",
      "..        ...     ...\n",
      "874         1  female\n",
      "875         1  female\n",
      "879         1  female\n",
      "880         1  female\n",
      "887         1  female\n",
      "\n",
      "[233 rows x 2 columns]\n",
      "233\n"
     ]
    }
   ],
   "source": [
    "total_sf = ListF[ListF['Survived'] == 1]\n",
    "print(total_sf)\n",
    "F = len(total_sf)\n",
    "print(F)"
   ]
  },
  {
   "cell_type": "markdown",
   "metadata": {
    "id": "uSAPMF6XorNR"
   },
   "source": [
    "Calculating the percentage"
   ]
  },
  {
   "cell_type": "code",
   "execution_count": 307,
   "metadata": {
    "colab": {
     "base_uri": "https://localhost:8080/"
    },
    "id": "GWaK_gjOy_cO",
    "outputId": "df05cdcb-4b20-47b3-92a5-e5c7cd12b8bb"
   },
   "outputs": [
    {
     "name": "stdout",
     "output_type": "stream",
     "text": [
      "Male Percentage = 0.18890814558058924 %\n",
      "Female Percentage = 0.7420382165605095 %\n"
     ]
    }
   ],
   "source": [
    " perM = (M/total_rows_M)\n",
    " print(\"Male Percentage = \"+str(perM)+\" %\")\n",
    "\n",
    " perF = (F/total_rows_F)\n",
    " print(\"Female Percentage = \"+str(perF)+\" %\")"
   ]
  },
  {
   "cell_type": "markdown",
   "metadata": {
    "id": "tNweE4Ym-gIX"
   },
   "source": [
    "https://www.geeksforgeeks.org/python-titanic-data-eda-using-seaborn/"
   ]
  },
  {
   "cell_type": "markdown",
   "metadata": {
    "id": "dgY9a4Lzpy_S"
   },
   "source": [
    "Displaying the Graph"
   ]
  },
  {
   "cell_type": "code",
   "execution_count": 308,
   "metadata": {
    "colab": {
     "base_uri": "https://localhost:8080/",
     "height": 387
    },
    "id": "zuLMj9y597nA",
    "outputId": "f8740793-cdee-41e6-b00f-698437a9d47b"
   },
   "outputs": [
    {
     "data": {
      "text/plain": [
       "<seaborn.axisgrid.FacetGrid at 0x7ff565aec0d0>"
      ]
     },
     "execution_count": 308,
     "metadata": {},
     "output_type": "execute_result"
    },
    {
     "data": {
      "image/png": "[encoded data removed]",
      "text/plain": [
       "<Figure size 411.875x360 with 1 Axes>"
      ]
     },
     "metadata": {
      "needs_background": "light"
     },
     "output_type": "display_data"
    }
   ],
   "source": [
    "sns.catplot(x =\"Sex\", hue =\"Survived\", color = \"pink\",\n",
    "kind =\"count\", data = mydata)"
   ]
  },
  {
   "cell_type": "markdown",
   "metadata": {
    "id": "8OpGU3l1gsZ-"
   },
   "source": [
    "#Part Three  For Rich And Poor"
   ]
  },
  {
   "cell_type": "markdown",
   "metadata": {
    "id": "SXrc7D6vnFxY"
   },
   "source": [
    "https://www.stackvidhya.com/get-value-of-cell-from-a-pandas-dataframe/"
   ]
  },
  {
   "cell_type": "code",
   "execution_count": 309,
   "metadata": {
    "colab": {
     "base_uri": "https://localhost:8080/"
    },
    "id": "Eov4fU9Wgdkz",
    "outputId": "a5e58c32-07c7-41f9-c55e-548ef253bd58"
   },
   "outputs": [
    {
     "name": "stdout",
     "output_type": "stream",
     "text": [
      "     Survived     Fare\n",
      "0           0   7.2500\n",
      "1           1  71.2833\n",
      "2           1   7.9250\n",
      "3           1  53.1000\n",
      "4           0   8.0500\n",
      "..        ...      ...\n",
      "886         0  13.0000\n",
      "887         1  30.0000\n",
      "888         0  23.4500\n",
      "889         1  30.0000\n",
      "890         0   7.7500\n",
      "\n",
      "[891 rows x 2 columns]\n",
      "891\n"
     ]
    }
   ],
   "source": [
    "ListR = mydata[['Survived','Fare']] \n",
    "print(ListR)\n",
    "ListRi = len(ListR)\n",
    "print(ListRi)"
   ]
  },
  {
   "cell_type": "markdown",
   "metadata": {
    "id": "Sf36ksXQnPO_"
   },
   "source": [
    "https://appdividend.com/2020/08/06/how-to-find-mean-in-pandas-dataframe/#:~:text=To%20calculate%20a%20mean%20of,axis%2C%20or%20the%20complete%20DataFrame."
   ]
  },
  {
   "cell_type": "markdown",
   "metadata": {
    "id": "q3Co0w9DowTF"
   },
   "source": [
    "Calculating the mean"
   ]
  },
  {
   "cell_type": "code",
   "execution_count": 310,
   "metadata": {
    "colab": {
     "base_uri": "https://localhost:8080/"
    },
    "id": "WAnsT2vAm1Rv",
    "outputId": "28ef0b08-948a-47e1-8349-8a02d13c0e3a"
   },
   "outputs": [
    {
     "name": "stdout",
     "output_type": "stream",
     "text": [
      "32.2042079685746\n"
     ]
    }
   ],
   "source": [
    "Mean = mydata[\"Fare\"].mean()\n",
    "print(Mean)"
   ]
  },
  {
   "cell_type": "markdown",
   "metadata": {
    "id": "OecjQHLWngSB"
   },
   "source": [
    "https://pandas.pydata.org/docs/reference/api/pandas.cut.html"
   ]
  },
  {
   "cell_type": "code",
   "execution_count": 311,
   "metadata": {
    "id": "yPLa6jdITaEU"
   },
   "outputs": [],
   "source": [
    "ListRich = pd.cut(mydata['Fare'], bins=[0,Mean,np.inf], labels=['Poor','Rich'] )"
   ]
  },
  {
   "cell_type": "code",
   "execution_count": 312,
   "metadata": {
    "id": "KmOXG_biT0rD"
   },
   "outputs": [],
   "source": [
    "mydata['Fare'] = ListRich.values\n"
   ]
  },
  {
   "cell_type": "code",
   "execution_count": 314,
   "metadata": {
    "colab": {
     "base_uri": "https://localhost:8080/"
    },
    "id": "VXP9qzl3T8QD",
    "outputId": "dd409dc6-06a5-45ae-b555-df68e4c2bea8"
   },
   "outputs": [
    {
     "name": "stdout",
     "output_type": "stream",
     "text": [
      "0      Poor\n",
      "1      Rich\n",
      "2      Poor\n",
      "3      Rich\n",
      "4      Poor\n",
      "       ... \n",
      "886    Poor\n",
      "887    Poor\n",
      "888    Poor\n",
      "889    Poor\n",
      "890    Poor\n",
      "Name: Fare, Length: 891, dtype: category\n",
      "Categories (2, object): ['Poor' < 'Rich']\n"
     ]
    }
   ],
   "source": [
    "print(mydata['Fare'])\n"
   ]
  },
  {
   "cell_type": "code",
   "execution_count": 315,
   "metadata": {
    "colab": {
     "base_uri": "https://localhost:8080/"
    },
    "id": "S4Lu9EkXUD0M",
    "outputId": "1c8a6f9c-7a77-4bfe-ff7f-0304dab09776"
   },
   "outputs": [
    {
     "name": "stdout",
     "output_type": "stream",
     "text": [
      "     PassengerId  Survived  Pclass  ...  Fare        Cabin  Embarked\n",
      "1              2         1       1  ...  Rich          C85         C\n",
      "3              4         1       1  ...  Rich         C123         S\n",
      "6              7         0       1  ...  Rich          E46         S\n",
      "23            24         1       1  ...  Rich           A6         S\n",
      "27            28         0       1  ...  Rich  C23 C25 C27         S\n",
      "..           ...       ...     ...  ...   ...          ...       ...\n",
      "856          857         1       1  ...  Rich          NaN         S\n",
      "863          864         0       3  ...  Rich          NaN         S\n",
      "867          868         0       1  ...  Rich          A24         S\n",
      "871          872         1       1  ...  Rich          D35         S\n",
      "879          880         1       1  ...  Rich          C50         C\n",
      "\n",
      "[211 rows x 12 columns]\n"
     ]
    }
   ],
   "source": [
    "total_r = mydata[mydata['Fare'] == 'Rich']\n",
    "print(total_r)"
   ]
  },
  {
   "cell_type": "code",
   "execution_count": 325,
   "metadata": {
    "id": "6OjQT511Ur3_"
   },
   "outputs": [],
   "source": [
    "total_sr = mydata[(mydata['Fare'] == 'Rich') & (mydata['Survived']==1)]"
   ]
  },
  {
   "cell_type": "code",
   "execution_count": 326,
   "metadata": {
    "colab": {
     "base_uri": "https://localhost:8080/"
    },
    "id": "88aijIQTWAmG",
    "outputId": "05ab9745-9741-4c00-8bab-d91ea4423ca4"
   },
   "outputs": [
    {
     "name": "stdout",
     "output_type": "stream",
     "text": [
      "0.5971563981042654\n"
     ]
    }
   ],
   "source": [
    "FinalRsurvived = len(total_sr)/len(total_r)\n",
    "print(FinalRsurvived)"
   ]
  },
  {
   "cell_type": "code",
   "execution_count": 327,
   "metadata": {
    "colab": {
     "base_uri": "https://localhost:8080/"
    },
    "id": "6rvwjIp5Wvzi",
    "outputId": "4a91f977-e89f-4e6c-fd8f-4fd8fe1281c6"
   },
   "outputs": [
    {
     "name": "stdout",
     "output_type": "stream",
     "text": [
      "     PassengerId  Survived  Pclass  ...  Fare Cabin  Embarked\n",
      "0              1         0       3  ...  Poor   NaN         S\n",
      "2              3         1       3  ...  Poor   NaN         S\n",
      "4              5         0       3  ...  Poor   NaN         S\n",
      "5              6         0       3  ...  Poor   NaN         Q\n",
      "7              8         0       3  ...  Poor   NaN         S\n",
      "..           ...       ...     ...  ...   ...   ...       ...\n",
      "886          887         0       2  ...  Poor   NaN         S\n",
      "887          888         1       1  ...  Poor   B42         S\n",
      "888          889         0       3  ...  Poor   NaN         S\n",
      "889          890         1       1  ...  Poor  C148         C\n",
      "890          891         0       3  ...  Poor   NaN         Q\n",
      "\n",
      "[665 rows x 12 columns]\n"
     ]
    }
   ],
   "source": [
    "total_p = mydata[mydata['Fare'] == 'Poor']\n",
    "print(total_p)"
   ]
  },
  {
   "cell_type": "code",
   "execution_count": 328,
   "metadata": {
    "id": "sDGQp8aGXFHN"
   },
   "outputs": [],
   "source": [
    "total_sp = mydata[(mydata['Fare'] == 'Poor') & (mydata['Survived']==1)]"
   ]
  },
  {
   "cell_type": "code",
   "execution_count": 330,
   "metadata": {
    "colab": {
     "base_uri": "https://localhost:8080/"
    },
    "id": "N5L3ODJOXMv0",
    "outputId": "a821f220-bcc1-4ba9-a00d-fb4934bee79b"
   },
   "outputs": [
    {
     "name": "stdout",
     "output_type": "stream",
     "text": [
      "0.3233082706766917\n"
     ]
    }
   ],
   "source": [
    "FinalPsurvived = len(total_sp)/len(total_p)\n",
    "print(FinalPsurvived)"
   ]
  },
  {
   "cell_type": "markdown",
   "metadata": {
    "id": "MBBDBay5mOKw"
   },
   "source": [
    "https://www.geeksforgeeks.org/python-titanic-data-eda-using-seaborn/"
   ]
  },
  {
   "cell_type": "markdown",
   "metadata": {
    "id": "pT7t1k4apWvi"
   },
   "source": [
    "Displaying the Graph"
   ]
  },
  {
   "cell_type": "code",
   "execution_count": 331,
   "metadata": {
    "colab": {
     "base_uri": "https://localhost:8080/",
     "height": 387
    },
    "id": "FB8wIkAdbjLF",
    "outputId": "4d673fd6-6aa0-46d7-c4f0-ff989d8739a2"
   },
   "outputs": [
    {
     "data": {
      "text/plain": [
       "<seaborn.axisgrid.FacetGrid at 0x7ff5658ca490>"
      ]
     },
     "execution_count": 331,
     "metadata": {},
     "output_type": "execute_result"
    },
    {
     "data": {
      "image/png": "[encoded data removed]",
      "text/plain": [
       "<Figure size 411.875x360 with 1 Axes>"
      ]
     },
     "metadata": {
      "needs_background": "light"
     },
     "output_type": "display_data"
    }
   ],
   "source": [
    "sns.catplot(x =\"Fare\", hue =\"Survived\", color = \"pink\",\n",
    "kind =\"count\", data = mydata)"
   ]
  }
 ],
 "metadata": {
  "colab": {
   "collapsed_sections": [],
   "name": "DM_1.ipynb",
   "provenance": []
  },
  "kernelspec": {
   "display_name": "Python 3 (ipykernel)",
   "language": "python",
   "name": "python3"
  },
  "language_info": {
   "codemirror_mode": {
    "name": "ipython",
    "version": 3
   },
   "file_extension": ".py",
   "mimetype": "text/x-python",
   "name": "python",
   "nbconvert_exporter": "python",
   "pygments_lexer": "ipython3",
   "version": "3.9.7"
  }
 },
 "nbformat": 4,
 "nbformat_minor": 1
}
