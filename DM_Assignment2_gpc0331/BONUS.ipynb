{
 "cells": [
  {
   "cell_type": "code",
   "execution_count": 2,
   "metadata": {
    "id": "SAevGzroJV1m"
   },
   "outputs": [
    {
     "ename": "ModuleNotFoundError",
     "evalue": "No module named 'wordcloud'",
     "output_type": "error",
     "traceback": [
      "\u001b[0;31m---------------------------------------------------------------------------\u001b[0m",
      "\u001b[0;31mModuleNotFoundError\u001b[0m                       Traceback (most recent call last)",
      "\u001b[0;32m/var/folders/wm/14w2c7751klgtnkgn1yj14m00000gn/T/ipykernel_20679/648221597.py\u001b[0m in \u001b[0;36m<module>\u001b[0;34m\u001b[0m\n\u001b[1;32m      1\u001b[0m \u001b[0;32mfrom\u001b[0m \u001b[0msklearn\u001b[0m\u001b[0;34m.\u001b[0m\u001b[0mfeature_extraction\u001b[0m\u001b[0;34m.\u001b[0m\u001b[0mtext\u001b[0m \u001b[0;32mimport\u001b[0m \u001b[0mCountVectorizer\u001b[0m\u001b[0;34m\u001b[0m\u001b[0;34m\u001b[0m\u001b[0m\n\u001b[0;32m----> 2\u001b[0;31m \u001b[0;32mfrom\u001b[0m \u001b[0mwordcloud\u001b[0m \u001b[0;32mimport\u001b[0m \u001b[0mWordCloud\u001b[0m\u001b[0;34m,\u001b[0m \u001b[0mSTOPWORDS\u001b[0m\u001b[0;34m\u001b[0m\u001b[0;34m\u001b[0m\u001b[0m\n\u001b[0m\u001b[1;32m      3\u001b[0m \u001b[0;32mimport\u001b[0m \u001b[0mmatplotlib\u001b[0m\u001b[0;34m.\u001b[0m\u001b[0mpyplot\u001b[0m \u001b[0;32mas\u001b[0m \u001b[0mplt\u001b[0m\u001b[0;34m\u001b[0m\u001b[0;34m\u001b[0m\u001b[0m\n\u001b[1;32m      4\u001b[0m \u001b[0;32mimport\u001b[0m \u001b[0mos\u001b[0m\u001b[0;34m\u001b[0m\u001b[0;34m\u001b[0m\u001b[0m\n\u001b[1;32m      5\u001b[0m \u001b[0;32mimport\u001b[0m \u001b[0mpandas\u001b[0m \u001b[0;32mas\u001b[0m \u001b[0mpd\u001b[0m\u001b[0;34m\u001b[0m\u001b[0;34m\u001b[0m\u001b[0m\n",
      "\u001b[0;31mModuleNotFoundError\u001b[0m: No module named 'wordcloud'"
     ]
    }
   ],
   "source": [
    "from sklearn.feature_extraction.text import CountVectorizer\n",
    "from wordcloud import WordCloud, STOPWORDS\n",
    "import matplotlib.pyplot as plt\n",
    "import os\n",
    "import pandas as pd"
   ]
  },
  {
   "cell_type": "code",
   "execution_count": null,
   "metadata": {},
   "outputs": [],
   "source": [
    "df = pd.read_table('/Users/glencorreia/Documents/Data Mining/DM_Assignment2_gpc0331/Portuguese')\n"
   ]
  },
  {
   "cell_type": "code",
   "execution_count": null,
   "metadata": {
    "colab": {
     "base_uri": "https://localhost:8080/"
    },
    "id": "RtgLNuCaYA3w",
    "outputId": "84d27f3e-6520-4cd6-b4e4-39762fd93723"
   },
   "outputs": [],
   "source": [
    "drive.mount('/content/gdrive')\n",
    "!ls \"gdrive/My Drive/BookTrain\"\n",
    "!ls \"gdrive/My Drive/BookTest\""
   ]
  },
  {
   "cell_type": "code",
   "execution_count": null,
   "metadata": {
    "id": "Ch3e-A2f-qyY"
   },
   "outputs": [],
   "source": [
    "bookWord = []\n",
    "bookChar = []\n",
    "for filename in os.listdir(\"gdrive/My Drive/BookTrain\"):\n",
    "    if filename.endswith(\"txt\"):\n",
    "        if \"Polish\" in filename: \n",
    "          book = [line.replace(\"\\n\", \"\") for line in open(\"gdrive/My Drive/BookTrain/\"+ filename, encoding='iso-8859-1')]\n",
    "          word = list(open(\"gdrive/My Drive/BookTrain/\"+ filename, encoding='iso-8859-1').read())\n",
    "        elif \"Finnish\" in filename:\n",
    "          book = [line.replace(\"\\n\", \"\") for line in open(\"gdrive/My Drive/BookTrain/\"+ filename, encoding='iso-8859-1')]\n",
    "          word = list(open(\"gdrive/My Drive/BookTrain/\"+ filename, encoding='iso-8859-1').read())\n",
    "        elif \"Greek\" in filename:\n",
    "          book = [line.replace(\"\\n\", \"\") for line in open(\"gdrive/My Drive/BookTrain/\"+ filename, encoding='ISO-8859-5')]\n",
    "          word = list(open(\"gdrive/My Drive/BookTrain/\"+ filename, encoding='iso-8859-5').read())\n",
    "        else:\n",
    "          book = [line.replace(\"\\n\", \"\") for line in open(\"gdrive/My Drive/BookTrain/\"+filename)]\n",
    "          word = list(open(\"gdrive/My Drive/BookTrain/\"+ filename).read())\n",
    "        word = [ele for ele in word if ele.strip()]\n",
    "        bookWord.append(book)\n",
    "        bookChar.append(word)"
   ]
  },
  {
   "cell_type": "code",
   "execution_count": null,
   "metadata": {
    "id": "N353ol-DJNTd"
   },
   "outputs": [],
   "source": [
    "from collections import Counter\n",
    "def get_top_n_words(corpus, n = None):\n",
    "  vec = CountVectorizer(stop_words=STOPWORDS).fit(corpus)\n",
    "  bag_of_words = vec.transform(corpus)\n",
    "  sum_words = bag_of_words.sum(axis=0) \n",
    "  words_freq = [(word, sum_words[0, idx]) for word, idx in     vec.vocabulary_.items()]\n",
    "  words_freq = sorted(words_freq, key = lambda x: x[1], reverse=True)\n",
    "  return words_freq[:n]\n",
    "\n",
    "def get_top_n_chars(corpus, n = None):\n",
    "  counter = Counter(corpus)\n",
    "  most_occur = counter.most_common(n)\n",
    "  return most_occur\n",
    "\n",
    "def word_cloud(corpus):\n",
    "  wordcloud = WordCloud().generate(corpus)\n",
    "\n",
    "  plt.imshow(wordcloud, interpolation='bilinear')\n",
    "  plt.axis(\"off\")\n",
    "  plt.show()"
   ]
  },
  {
   "cell_type": "code",
   "execution_count": null,
   "metadata": {
    "colab": {
     "base_uri": "https://localhost:8080/",
     "height": 1000
    },
    "id": "GKB6h3UZJM-5",
    "outputId": "9d3d1958-97fc-4c66-8bd3-e9722fe7c76f"
   },
   "outputs": [],
   "source": [
    "common_word_list = []\n",
    "for book in bookWord:\n",
    "  common_words = get_top_n_words(book, 25)\n",
    "  text = ''\n",
    "  for word, freq in common_words:\n",
    "      text += \" \" + word\n",
    "      common_word_list.append(word)\n",
    "      print(word, freq)\n",
    "  word_cloud(text)"
   ]
  },
  {
   "cell_type": "code",
   "execution_count": null,
   "metadata": {
    "colab": {
     "base_uri": "https://localhost:8080/"
    },
    "id": "N7aD32WzL7PA",
    "outputId": "6969a9ff-9e61-4f7e-f99e-8700587df422"
   },
   "outputs": [],
   "source": [
    "common_char_list = []\n",
    "for book in bookChar:\n",
    "  common_words = get_top_n_chars(book, 25)\n",
    "  text = ''\n",
    "  for word, freq in common_words:\n",
    "      text += \" \" + word\n",
    "      common_char_list.append(word)\n",
    "      print(word, freq)\n",
    "  print(\"############################################################\")"
   ]
  },
  {
   "cell_type": "code",
   "execution_count": null,
   "metadata": {
    "id": "g7KW9xXezKi9"
   },
   "outputs": [],
   "source": [
    "bookTestWord = []\n",
    "bookTestChar = []\n",
    "for filename in os.listdir(\"gdrive/My Drive/BookTest\"):\n",
    "    if filename.endswith(\"txt\"):\n",
    "        book = [line.replace(\"\\n\", \"\") for line in open(\"gdrive/My Drive/BookTest/\"+filename)]\n",
    "        word = list(open(\"gdrive/My Drive/BookTest/\"+ filename).read())\n",
    "        word = [ele for ele in word if ele.strip()]\n",
    "        bookTestWord.append(book)\n",
    "        bookTestChar.append(word)\n",
    "common_char_list_test = []\n",
    "for book in bookTestWord:\n",
    "  common_words = get_top_n_chars(book, 25)\n",
    "  text = ''\n",
    "  for word, freq in common_words:\n",
    "      text += \" \" + word\n",
    "      common_char_list_test.append(word)\n",
    "      print(word, freq)\n",
    "  print(\"############################################################\")"
   ]
  },
  {
   "cell_type": "code",
   "execution_count": null,
   "metadata": {
    "colab": {
     "base_uri": "https://localhost:8080/",
     "height": 235
    },
    "id": "mHEuJsNlv-em",
    "outputId": "e961e58f-6721-44e2-a94f-4db33ff660f2"
   },
   "outputs": [],
   "source": [
    "from sklearn.metrics.pairwise import pairwise_distances\n",
    "from gensim import models\n",
    "def distance(x, y):\n",
    "    return models.word2vec_model.wmdistance(x, y)\n",
    "distance()"
   ]
  }
 ],
 "metadata": {
  "colab": {
   "name": "Gutenberg.ipynb",
   "provenance": []
  },
  "kernelspec": {
   "display_name": "Python 3 (ipykernel)",
   "language": "python",
   "name": "python3"
  },
  "language_info": {
   "codemirror_mode": {
    "name": "ipython",
    "version": 3
   },
   "file_extension": ".py",
   "mimetype": "text/x-python",
   "name": "python",
   "nbconvert_exporter": "python",
   "pygments_lexer": "ipython3",
   "version": "3.9.7"
  }
 },
 "nbformat": 4,
 "nbformat_minor": 1
}
